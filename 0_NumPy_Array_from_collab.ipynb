{
  "cells": [
    {
      "cell_type": "code",
      "execution_count": 1,
      "metadata": {
        "id": "gFNBdxweK87O"
      },
      "outputs": [],
      "source": [
        "import numpy as np"
      ]
    },
    {
      "cell_type": "code",
      "execution_count": 2,
      "metadata": {
        "colab": {
          "base_uri": "https://localhost:8080/"
        },
        "id": "oiPyGfwjLQH_",
        "outputId": "3c1270cf-5916-43e4-c168-9dbecacf0cd8"
      },
      "outputs": [
        {
          "data": {
            "text/plain": [
              "[1, 2, 3, 4, 5, 6, 7, 8, 9]"
            ]
          },
          "execution_count": 2,
          "metadata": {},
          "output_type": "execute_result"
        }
      ],
      "source": [
        "lista = [1,2,3,4,5,6,7,8,9]\n",
        "lista"
      ]
    },
    {
      "cell_type": "code",
      "execution_count": 3,
      "metadata": {
        "colab": {
          "base_uri": "https://localhost:8080/"
        },
        "id": "bmcQSLLaLXYy",
        "outputId": "6087e053-6701-4aaa-8cd6-7327f4c4c1d6"
      },
      "outputs": [
        {
          "data": {
            "text/plain": [
              "array([1, 2, 3, 4, 5, 6, 7, 8, 9])"
            ]
          },
          "execution_count": 3,
          "metadata": {},
          "output_type": "execute_result"
        }
      ],
      "source": [
        "arrNumPy = np.array(lista)\n",
        "arrNumPy"
      ]
    },
    {
      "cell_type": "code",
      "execution_count": 4,
      "metadata": {
        "colab": {
          "base_uri": "https://localhost:8080/"
        },
        "id": "CROxO53WLhWj",
        "outputId": "9159d2c3-38fb-46d6-b074-b377bc52cf6e"
      },
      "outputs": [
        {
          "data": {
            "text/plain": [
              "numpy.ndarray"
            ]
          },
          "execution_count": 4,
          "metadata": {},
          "output_type": "execute_result"
        }
      ],
      "source": [
        "type(arrNumPy)"
      ]
    },
    {
      "cell_type": "code",
      "execution_count": 5,
      "metadata": {
        "colab": {
          "base_uri": "https://localhost:8080/"
        },
        "id": "UMnvB_kCLm9r",
        "outputId": "c8dc3e58-6b44-4243-b0ee-e6e83bb33f4e"
      },
      "outputs": [
        {
          "data": {
            "text/plain": [
              "array([[1, 2, 3],\n",
              "       [4, 5, 6],\n",
              "       [7, 8, 9]])"
            ]
          },
          "execution_count": 5,
          "metadata": {},
          "output_type": "execute_result"
        }
      ],
      "source": [
        "matriz = [[1,2,3],[4,5,6],[7,8,9]]\n",
        "matriz = np.array(matriz)\n",
        "matriz"
      ]
    },
    {
      "cell_type": "code",
      "execution_count": 6,
      "metadata": {
        "colab": {
          "base_uri": "https://localhost:8080/"
        },
        "id": "bTkBhkz4L9NJ",
        "outputId": "019e1358-d07d-43d5-923d-007f72001e8f"
      },
      "outputs": [
        {
          "data": {
            "text/plain": [
              "2"
            ]
          },
          "execution_count": 6,
          "metadata": {},
          "output_type": "execute_result"
        }
      ],
      "source": [
        "arrNumPy[1]"
      ]
    },
    {
      "cell_type": "code",
      "execution_count": 7,
      "metadata": {
        "colab": {
          "base_uri": "https://localhost:8080/"
        },
        "id": "heI7W99qMoNL",
        "outputId": "6c044ece-e2ce-453c-96c9-30a7a3952090"
      },
      "outputs": [
        {
          "data": {
            "text/plain": [
              "7"
            ]
          },
          "execution_count": 7,
          "metadata": {},
          "output_type": "execute_result"
        }
      ],
      "source": [
        "arrNumPy[0] + arrNumPy[5]"
      ]
    },
    {
      "cell_type": "code",
      "execution_count": 8,
      "metadata": {
        "colab": {
          "base_uri": "https://localhost:8080/"
        },
        "id": "LC2W1RJcMtGp",
        "outputId": "6d092b8e-3906-446a-8a88-050eb486fc49"
      },
      "outputs": [
        {
          "data": {
            "text/plain": [
              "array([[1, 2, 3],\n",
              "       [4, 5, 6],\n",
              "       [7, 8, 9]])"
            ]
          },
          "execution_count": 8,
          "metadata": {},
          "output_type": "execute_result"
        }
      ],
      "source": [
        "matriz"
      ]
    },
    {
      "cell_type": "code",
      "execution_count": 9,
      "metadata": {
        "colab": {
          "base_uri": "https://localhost:8080/"
        },
        "id": "QxqHJl4EMxsQ",
        "outputId": "fab16208-d036-4639-fed0-f3de85abc690"
      },
      "outputs": [
        {
          "data": {
            "text/plain": [
              "3"
            ]
          },
          "execution_count": 9,
          "metadata": {},
          "output_type": "execute_result"
        }
      ],
      "source": [
        "matriz[0,2] #esto significa [filas,columnas]"
      ]
    },
    {
      "cell_type": "code",
      "execution_count": 10,
      "metadata": {
        "colab": {
          "base_uri": "https://localhost:8080/"
        },
        "id": "36mF0HxPNO-e",
        "outputId": "fde9ffbb-d8b3-4fb3-8a56-92a802b6ea12"
      },
      "outputs": [
        {
          "data": {
            "text/plain": [
              "array([1, 2, 3, 4, 5, 6, 7, 8, 9])"
            ]
          },
          "execution_count": 10,
          "metadata": {},
          "output_type": "execute_result"
        }
      ],
      "source": [
        "arrNumPy"
      ]
    },
    {
      "cell_type": "code",
      "execution_count": 11,
      "metadata": {
        "colab": {
          "base_uri": "https://localhost:8080/"
        },
        "id": "s6YM1Vv-NS0F",
        "outputId": "7dccd56e-2ffb-4acf-c9af-5aa4bb6a8658"
      },
      "outputs": [
        {
          "data": {
            "text/plain": [
              "array([1, 2, 3, 4, 5])"
            ]
          },
          "execution_count": 11,
          "metadata": {},
          "output_type": "execute_result"
        }
      ],
      "source": [
        "arrNumPy[0:5]#slicing, no toma en cuenta el limit o sea la posicion 5 del index en este caso (numero 6)"
      ]
    },
    {
      "cell_type": "code",
      "execution_count": 12,
      "metadata": {
        "colab": {
          "base_uri": "https://localhost:8080/"
        },
        "id": "Y3AoeCZ9NsId",
        "outputId": "e15663ec-9757-4e4b-b662-1f620ca619f0"
      },
      "outputs": [
        {
          "data": {
            "text/plain": [
              "array([2, 3, 4, 5, 6])"
            ]
          },
          "execution_count": 12,
          "metadata": {},
          "output_type": "execute_result"
        }
      ],
      "source": [
        "arrNumPy[1:6]"
      ]
    },
    {
      "cell_type": "code",
      "execution_count": 13,
      "metadata": {
        "colab": {
          "base_uri": "https://localhost:8080/"
        },
        "id": "4AvmVSq8N7NW",
        "outputId": "ef8a95a1-bd8b-4455-f7f0-65ea78d28b7e"
      },
      "outputs": [
        {
          "data": {
            "text/plain": [
              "array([1, 2, 3, 4, 5, 6, 7])"
            ]
          },
          "execution_count": 13,
          "metadata": {},
          "output_type": "execute_result"
        }
      ],
      "source": [
        "arrNumPy[:7] #puedo trabajar sin start"
      ]
    },
    {
      "cell_type": "code",
      "execution_count": 14,
      "metadata": {
        "colab": {
          "base_uri": "https://localhost:8080/"
        },
        "id": "ClrbUzSjN_a4",
        "outputId": "a3cdacc2-b142-413a-e46b-fead585e00f1"
      },
      "outputs": [
        {
          "data": {
            "text/plain": [
              "array([3, 4, 5, 6, 7, 8, 9])"
            ]
          },
          "execution_count": 14,
          "metadata": {},
          "output_type": "execute_result"
        }
      ],
      "source": [
        "arrNumPy[2:] #puedo trabajar sin end"
      ]
    },
    {
      "cell_type": "code",
      "execution_count": 15,
      "metadata": {
        "colab": {
          "base_uri": "https://localhost:8080/"
        },
        "id": "dxeW1g8pOLIF",
        "outputId": "23e2be39-38de-4a39-b689-86bc46a8a90f"
      },
      "outputs": [
        {
          "data": {
            "text/plain": [
              "array([1, 4, 7])"
            ]
          },
          "execution_count": 15,
          "metadata": {},
          "output_type": "execute_result"
        }
      ],
      "source": [
        "arrNumPy[::3] #de tres en tres"
      ]
    },
    {
      "cell_type": "code",
      "execution_count": 16,
      "metadata": {
        "colab": {
          "base_uri": "https://localhost:8080/"
        },
        "id": "8LEdTHGfOSqo",
        "outputId": "bc397bb1-8ce0-4568-92cd-9674f9165c03"
      },
      "outputs": [
        {
          "data": {
            "text/plain": [
              "9"
            ]
          },
          "execution_count": 16,
          "metadata": {},
          "output_type": "execute_result"
        }
      ],
      "source": [
        "arrNumPy[-1] #obtiene el ultimo indice de la lista (en reversa)"
      ]
    },
    {
      "cell_type": "code",
      "execution_count": 17,
      "metadata": {
        "colab": {
          "base_uri": "https://localhost:8080/"
        },
        "id": "e9F3kqPPOX_k",
        "outputId": "daeac6d4-e13a-4f9b-ea83-b991e3eef9f9"
      },
      "outputs": [
        {
          "data": {
            "text/plain": [
              "array([7, 8, 9])"
            ]
          },
          "execution_count": 17,
          "metadata": {},
          "output_type": "execute_result"
        }
      ],
      "source": [
        "arrNumPy[-3:] #va en reversa a los tres ultimos indices de la lista"
      ]
    },
    {
      "cell_type": "code",
      "execution_count": 18,
      "metadata": {
        "colab": {
          "base_uri": "https://localhost:8080/"
        },
        "id": "jOn7tKiXOv92",
        "outputId": "374450cf-4bd0-4efa-ae55-320f75eb744e"
      },
      "outputs": [
        {
          "data": {
            "text/plain": [
              "array([9, 8, 7, 6, 5, 4, 3, 2, 1])"
            ]
          },
          "execution_count": 18,
          "metadata": {},
          "output_type": "execute_result"
        }
      ],
      "source": [
        "arrNumPy[::-1] #invierte el orden de la lista"
      ]
    },
    {
      "cell_type": "code",
      "execution_count": 19,
      "metadata": {
        "colab": {
          "base_uri": "https://localhost:8080/"
        },
        "id": "B-4olIk9O2PK",
        "outputId": "13f9843f-0a79-46b8-973a-2de8bffd842b"
      },
      "outputs": [
        {
          "data": {
            "text/plain": [
              "array([[1, 2, 3],\n",
              "       [4, 5, 6],\n",
              "       [7, 8, 9]])"
            ]
          },
          "execution_count": 19,
          "metadata": {},
          "output_type": "execute_result"
        }
      ],
      "source": [
        "matriz"
      ]
    },
    {
      "cell_type": "code",
      "execution_count": 20,
      "metadata": {
        "colab": {
          "base_uri": "https://localhost:8080/"
        },
        "id": "hE3Le8daO5Ul",
        "outputId": "1d40e1e4-e131-4ebd-ffd0-5345e4ce1193"
      },
      "outputs": [
        {
          "data": {
            "text/plain": [
              "array([[4, 5],\n",
              "       [7, 8]])"
            ]
          },
          "execution_count": 20,
          "metadata": {},
          "output_type": "execute_result"
        }
      ],
      "source": [
        "matriz[1:,0:2]"
      ]
    },
    {
      "cell_type": "code",
      "execution_count": 21,
      "metadata": {
        "colab": {
          "base_uri": "https://localhost:8080/"
        },
        "id": "X8XgzUgSPhMZ",
        "outputId": "f9a6ae5e-d028-4921-e44f-87b36c5c1860"
      },
      "outputs": [
        {
          "data": {
            "text/plain": [
              "array([[[ 2, 17],\n",
              "        [45, 78]],\n",
              "\n",
              "       [[88, 92],\n",
              "        [60, 76]],\n",
              "\n",
              "       [[76, 33],\n",
              "        [20, 18]]])"
            ]
          },
          "execution_count": 21,
          "metadata": {},
          "output_type": "execute_result"
        }
      ],
      "source": [
        "matriz3d = np.array([[[2,17], [45, 78]], [[88, 92], [60, 76]],[[76,33],[20,18]]])\n",
        "matriz3d"
      ]
    },
    {
      "cell_type": "code",
      "execution_count": 22,
      "metadata": {
        "colab": {
          "base_uri": "https://localhost:8080/"
        },
        "id": "mlhlNCymS2P1",
        "outputId": "760a006e-d96c-4a5e-a699-918a1132bca7"
      },
      "outputs": [
        {
          "data": {
            "text/plain": [
              "array([[[ 2, 17],\n",
              "        [45, 78]]])"
            ]
          },
          "execution_count": 22,
          "metadata": {},
          "output_type": "execute_result"
        }
      ],
      "source": [
        "matriz3d[0:1] "
      ]
    },
    {
      "cell_type": "code",
      "execution_count": 23,
      "metadata": {
        "colab": {
          "base_uri": "https://localhost:8080/"
        },
        "id": "dOLlDjjvTTmc",
        "outputId": "3ce6d4a6-049f-4748-b865-e001b7cf5165"
      },
      "outputs": [
        {
          "data": {
            "text/plain": [
              "array([[[ 2, 17]]])"
            ]
          },
          "execution_count": 23,
          "metadata": {},
          "output_type": "execute_result"
        }
      ],
      "source": [
        "matriz3d[0:1,0:1]"
      ]
    },
    {
      "cell_type": "code",
      "execution_count": 24,
      "metadata": {
        "colab": {
          "base_uri": "https://localhost:8080/"
        },
        "id": "1l6OkIpKTlXF",
        "outputId": "5e250813-0bd3-4196-c22e-a6f58b0863d0"
      },
      "outputs": [
        {
          "data": {
            "text/plain": [
              "array([[[2]]])"
            ]
          },
          "execution_count": 24,
          "metadata": {},
          "output_type": "execute_result"
        }
      ],
      "source": [
        "matriz3d[0:1,0:1,0:1]"
      ]
    },
    {
      "cell_type": "code",
      "execution_count": 25,
      "metadata": {
        "colab": {
          "base_uri": "https://localhost:8080/"
        },
        "id": "719M9yv0Vflr",
        "outputId": "90c3bd0f-2cb7-4032-9a9b-ae6082720d11"
      },
      "outputs": [
        {
          "data": {
            "text/plain": [
              "array([[[ 2, 17],\n",
              "        [45, 78]],\n",
              "\n",
              "       [[88, 92],\n",
              "        [60, 76]],\n",
              "\n",
              "       [[76, 33],\n",
              "        [20, 18]]])"
            ]
          },
          "execution_count": 25,
          "metadata": {},
          "output_type": "execute_result"
        }
      ],
      "source": [
        "matriz3d"
      ]
    },
    {
      "cell_type": "code",
      "execution_count": 26,
      "metadata": {
        "colab": {
          "base_uri": "https://localhost:8080/"
        },
        "id": "wYJG6oCfU9b4",
        "outputId": "7be5d6c7-250a-46f9-c58b-683377464f7c"
      },
      "outputs": [
        {
          "data": {
            "text/plain": [
              "array([[[76, 33],\n",
              "        [20, 18]],\n",
              "\n",
              "       [[88, 92],\n",
              "        [60, 76]],\n",
              "\n",
              "       [[ 2, 17],\n",
              "        [45, 78]]])"
            ]
          },
          "execution_count": 26,
          "metadata": {},
          "output_type": "execute_result"
        }
      ],
      "source": [
        "matriz3d[::-1,:,:] #voltea el orden de los arrays exteriores"
      ]
    },
    {
      "cell_type": "code",
      "execution_count": 27,
      "metadata": {
        "colab": {
          "base_uri": "https://localhost:8080/"
        },
        "id": "3ypxe6KQUgyg",
        "outputId": "cb81edbb-c23c-4963-cbe0-bd21a7f2223f"
      },
      "outputs": [
        {
          "data": {
            "text/plain": [
              "array([[[45, 78],\n",
              "        [ 2, 17]],\n",
              "\n",
              "       [[60, 76],\n",
              "        [88, 92]],\n",
              "\n",
              "       [[20, 18],\n",
              "        [76, 33]]])"
            ]
          },
          "execution_count": 27,
          "metadata": {},
          "output_type": "execute_result"
        }
      ],
      "source": [
        "matriz3d[:,::-1,:] #Voltea el orden de los arrays interiores"
      ]
    },
    {
      "cell_type": "code",
      "execution_count": 28,
      "metadata": {
        "colab": {
          "base_uri": "https://localhost:8080/"
        },
        "id": "B9pjBA5lVF_x",
        "outputId": "2629f56e-7b2c-46fa-e968-a6c1a9359a7b"
      },
      "outputs": [
        {
          "data": {
            "text/plain": [
              "array([[[17,  2],\n",
              "        [78, 45]],\n",
              "\n",
              "       [[92, 88],\n",
              "        [76, 60]],\n",
              "\n",
              "       [[33, 76],\n",
              "        [18, 20]]])"
            ]
          },
          "execution_count": 28,
          "metadata": {},
          "output_type": "execute_result"
        }
      ],
      "source": [
        "matriz3d[:,:,::-1] #Voltea el orden de los numeros dentro de los arrays"
      ]
    },
    {
      "cell_type": "code",
      "execution_count": 29,
      "metadata": {
        "colab": {
          "base_uri": "https://localhost:8080/"
        },
        "id": "CWBXKbqKWD8q",
        "outputId": "50b39872-bf29-4cab-ebcf-2cde0c8d2845"
      },
      "outputs": [
        {
          "data": {
            "text/plain": [
              "array([[[18, 20],\n",
              "        [33, 76]],\n",
              "\n",
              "       [[76, 60],\n",
              "        [92, 88]],\n",
              "\n",
              "       [[78, 45],\n",
              "        [17,  2]]])"
            ]
          },
          "execution_count": 29,
          "metadata": {},
          "output_type": "execute_result"
        }
      ],
      "source": [
        "matriz3d[::-1,::-1,::-1]"
      ]
    }
  ],
  "metadata": {
    "colab": {
      "provenance": []
    },
    "kernelspec": {
      "display_name": "Python 3.10.5 64-bit",
      "language": "python",
      "name": "python3"
    },
    "language_info": {
      "codemirror_mode": {
        "name": "ipython",
        "version": 3
      },
      "file_extension": ".py",
      "mimetype": "text/x-python",
      "name": "python",
      "nbconvert_exporter": "python",
      "pygments_lexer": "ipython3",
      "version": "3.10.5"
    },
    "vscode": {
      "interpreter": {
        "hash": "6ff0b03a42956260793e956f25970e0ff1ec1f86f54fa5a01536209be86d7570"
      }
    }
  },
  "nbformat": 4,
  "nbformat_minor": 0
}
