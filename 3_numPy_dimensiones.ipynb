{
  "cells": [
    {
      "cell_type": "code",
      "execution_count": 2,
      "metadata": {
        "id": "XpXhvNPMWIrj"
      },
      "outputs": [],
      "source": [
        "import numpy as np"
      ]
    },
    {
      "cell_type": "code",
      "execution_count": 3,
      "metadata": {
        "colab": {
          "base_uri": "https://localhost:8080/"
        },
        "id": "ouhxcB6pW10W",
        "outputId": "60faa642-2655-4bf6-c05b-3e9afb34e5cb"
      },
      "outputs": [
        {
          "name": "stdout",
          "output_type": "stream",
          "text": [
            "42\n"
          ]
        },
        {
          "data": {
            "text/plain": [
              "0"
            ]
          },
          "execution_count": 3,
          "metadata": {},
          "output_type": "execute_result"
        }
      ],
      "source": [
        "scalar = np.array(42)\n",
        "print(scalar)\n",
        "scalar.ndim"
      ]
    },
    {
      "cell_type": "code",
      "execution_count": 4,
      "metadata": {
        "colab": {
          "base_uri": "https://localhost:8080/"
        },
        "id": "b1spgeDSXwLq",
        "outputId": "d72c9b7d-03ed-4963-d57b-9ff0e42b8f07"
      },
      "outputs": [
        {
          "name": "stdout",
          "output_type": "stream",
          "text": [
            "[1 2 3]\n"
          ]
        },
        {
          "data": {
            "text/plain": [
              "1"
            ]
          },
          "execution_count": 4,
          "metadata": {},
          "output_type": "execute_result"
        }
      ],
      "source": [
        "vector = np.array([1,2,3])\n",
        "print(vector)\n",
        "vector.ndim"
      ]
    },
    {
      "cell_type": "code",
      "execution_count": 5,
      "metadata": {
        "colab": {
          "base_uri": "https://localhost:8080/"
        },
        "id": "8lHd-OvlYZ98",
        "outputId": "f5c1245b-73c6-4458-9947-d866c41a818f"
      },
      "outputs": [
        {
          "name": "stdout",
          "output_type": "stream",
          "text": [
            "[[1 2 3]\n",
            " [4 5 6]\n",
            " [7 8 9]]\n"
          ]
        },
        {
          "data": {
            "text/plain": [
              "2"
            ]
          },
          "execution_count": 5,
          "metadata": {},
          "output_type": "execute_result"
        }
      ],
      "source": [
        "matriz = np.array([[1,2,3],[4,5,6],[7,8,9]])\n",
        "print(matriz)\n",
        "matriz.ndim"
      ]
    },
    {
      "cell_type": "code",
      "execution_count": 6,
      "metadata": {
        "colab": {
          "base_uri": "https://localhost:8080/"
        },
        "id": "C7rYT5PMYs_w",
        "outputId": "34ba00b5-de31-402b-94c2-28f983dc9ebd"
      },
      "outputs": [
        {
          "name": "stdout",
          "output_type": "stream",
          "text": [
            "[[[  12   34]\n",
            "  [ 156   67]\n",
            "  [ 546  768]]\n",
            "\n",
            " [[ 677   75]\n",
            "  [  45   76]\n",
            "  [  67    8]]\n",
            "\n",
            " [[ 234 2435]\n",
            "  [ 567   56]\n",
            "  [  45   67]]]\n"
          ]
        },
        {
          "data": {
            "text/plain": [
              "3"
            ]
          },
          "execution_count": 6,
          "metadata": {},
          "output_type": "execute_result"
        }
      ],
      "source": [
        "tensor = np.array([[[12,34],[156,67],[546,768]],[[677,75],[45,76],[67,8]],[[234,2435],[567,56],[45,67]]])\n",
        "print(tensor)\n",
        "tensor.ndim"
      ]
    },
    {
      "cell_type": "markdown",
      "metadata": {
        "id": "moNPyqkYaGTv"
      },
      "source": [
        "##Agregar o eliminar dimensiones"
      ]
    },
    {
      "cell_type": "code",
      "execution_count": 7,
      "metadata": {
        "colab": {
          "base_uri": "https://localhost:8080/"
        },
        "id": "3MzpkdXmaKdB",
        "outputId": "3183777f-d6fa-4490-fc54-7e40bd8367b0"
      },
      "outputs": [
        {
          "name": "stdout",
          "output_type": "stream",
          "text": [
            "[[[[[[[[[[1 2 3]]]]]]]]]]\n"
          ]
        },
        {
          "data": {
            "text/plain": [
              "10"
            ]
          },
          "execution_count": 7,
          "metadata": {},
          "output_type": "execute_result"
        }
      ],
      "source": [
        "n_tensor = np.array([1,2,3],ndmin=10)\n",
        "print(n_tensor)\n",
        "n_tensor.ndim"
      ]
    },
    {
      "cell_type": "code",
      "execution_count": 8,
      "metadata": {
        "colab": {
          "base_uri": "https://localhost:8080/"
        },
        "id": "JB8VcaKhak3r",
        "outputId": "707e2fc1-04ac-4dd5-f651-17ef5a3f4bd6"
      },
      "outputs": [
        {
          "name": "stdout",
          "output_type": "stream",
          "text": [
            "[[1 2 3]]\n"
          ]
        },
        {
          "data": {
            "text/plain": [
              "2"
            ]
          },
          "execution_count": 8,
          "metadata": {},
          "output_type": "execute_result"
        }
      ],
      "source": [
        "expand = np.expand_dims(np.array([1,2,3]),axis=0)\n",
        "print(expand)\n",
        "expand.ndim"
      ]
    },
    {
      "cell_type": "code",
      "execution_count": 9,
      "metadata": {
        "colab": {
          "base_uri": "https://localhost:8080/"
        },
        "id": "WbCG_nPkb_t-",
        "outputId": "6f4c561f-cc06-44f5-eccf-ee45a85a150d"
      },
      "outputs": [
        {
          "name": "stdout",
          "output_type": "stream",
          "text": [
            "Este es el vector:  [[[[[[[[[[1 2 3]]]]]]]]]]  Numero de dimensiones:  10\n",
            "Este es el vector:  [1 2 3]  Numero de dimensiones:  1\n"
          ]
        }
      ],
      "source": [
        "#Comprimir un vector que no esta siendo utilizado correctamente\n",
        "print(\"Este es el vector: \",n_tensor,\" Numero de dimensiones: \",n_tensor.ndim)\n",
        "n_tensor2 = np.squeeze(n_tensor)\n",
        "print(\"Este es el vector: \",n_tensor2,\" Numero de dimensiones: \",n_tensor2.ndim)"
      ]
    },
    {
      "cell_type": "markdown",
      "metadata": {},
      "source": [
        "<h1>Reto</h1>"
      ]
    },
    {
      "cell_type": "code",
      "execution_count": 24,
      "metadata": {},
      "outputs": [
        {
          "name": "stdout",
          "output_type": "stream",
          "text": [
            "[[[[[ 4]\n",
            "    [ 1]]\n",
            "\n",
            "   [[ 5]\n",
            "    [ 6]]]\n",
            "\n",
            "\n",
            "  [[[ 7]\n",
            "    [ 1]]\n",
            "\n",
            "   [[71]\n",
            "    [15]]]]\n",
            "\n",
            "\n",
            "\n",
            " [[[[23]\n",
            "    [11]]\n",
            "\n",
            "   [[12]\n",
            "    [41]]]\n",
            "\n",
            "\n",
            "  [[[51]\n",
            "    [35]]\n",
            "\n",
            "   [[56]\n",
            "    [43]]]]]\n",
            "5\n",
            "[[[[ 4  1]\n",
            "   [ 5  6]]\n",
            "\n",
            "  [[ 7  1]\n",
            "   [71 15]]]\n",
            "\n",
            "\n",
            " [[[23 11]\n",
            "   [12 41]]\n",
            "\n",
            "  [[51 35]\n",
            "   [56 43]]]]\n",
            "4\n",
            "5\n",
            "[[[[[ 4  1]\n",
            "    [ 5  6]]\n",
            "\n",
            "   [[ 7  1]\n",
            "    [71 15]]]]\n",
            "\n",
            "\n",
            "\n",
            " [[[[23 11]\n",
            "    [12 41]]\n",
            "\n",
            "   [[51 35]\n",
            "    [56 43]]]]]\n"
          ]
        }
      ],
      "source": [
        "tensor_5d = np.array([[[[[4],[1]],[[5],[6]]],[[[7],[1]],[[71],[15]]]],[[[[23],[11]],[[12],[41]]],[[[51],[35]],[[56],[43]]]]])\n",
        "print(tensor_5d)\n",
        "print(tensor_5d.ndim)\n",
        "tensor_5d = np.squeeze(tensor_5d)\n",
        "print(tensor_5d)\n",
        "print(tensor_5d.ndim)\n",
        "tensor_5d = np.expand_dims(tensor_5d,axis=1)\n",
        "print(tensor_5d.ndim)\n",
        "print(tensor_5d)"
      ]
    }
  ],
  "metadata": {
    "colab": {
      "provenance": []
    },
    "kernelspec": {
      "display_name": "Python 3.10.5 64-bit",
      "language": "python",
      "name": "python3"
    },
    "language_info": {
      "codemirror_mode": {
        "name": "ipython",
        "version": 3
      },
      "file_extension": ".py",
      "mimetype": "text/x-python",
      "name": "python",
      "nbconvert_exporter": "python",
      "pygments_lexer": "ipython3",
      "version": "3.10.5"
    },
    "vscode": {
      "interpreter": {
        "hash": "6ff0b03a42956260793e956f25970e0ff1ec1f86f54fa5a01536209be86d7570"
      }
    }
  },
  "nbformat": 4,
  "nbformat_minor": 0
}
