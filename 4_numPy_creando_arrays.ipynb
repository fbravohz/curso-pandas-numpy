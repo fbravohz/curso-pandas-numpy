{
 "cells": [
  {
   "cell_type": "code",
   "execution_count": 1,
   "metadata": {},
   "outputs": [],
   "source": [
    "import numpy as np"
   ]
  },
  {
   "cell_type": "code",
   "execution_count": 2,
   "metadata": {},
   "outputs": [
    {
     "data": {
      "text/plain": [
       "[0, 1, 2, 3, 4, 5, 6, 7, 8, 9]"
      ]
     },
     "execution_count": 2,
     "metadata": {},
     "output_type": "execute_result"
    }
   ],
   "source": [
    "list(range(0,10))"
   ]
  },
  {
   "cell_type": "code",
   "execution_count": 5,
   "metadata": {},
   "outputs": [
    {
     "data": {
      "text/plain": [
       "array([ 0,  2,  4,  6,  8, 10, 12, 14, 16, 18, 20])"
      ]
     },
     "execution_count": 5,
     "metadata": {},
     "output_type": "execute_result"
    }
   ],
   "source": [
    "np.arange(0,22,2)"
   ]
  },
  {
   "cell_type": "code",
   "execution_count": 6,
   "metadata": {},
   "outputs": [
    {
     "data": {
      "text/plain": [
       "array([0., 0., 0.])"
      ]
     },
     "execution_count": 6,
     "metadata": {},
     "output_type": "execute_result"
    }
   ],
   "source": [
    "np.zeros(3)"
   ]
  },
  {
   "cell_type": "code",
   "execution_count": 7,
   "metadata": {},
   "outputs": [
    {
     "data": {
      "text/plain": [
       "array([[0., 0., 0., 0., 0., 0., 0., 0., 0., 0.],\n",
       "       [0., 0., 0., 0., 0., 0., 0., 0., 0., 0.],\n",
       "       [0., 0., 0., 0., 0., 0., 0., 0., 0., 0.],\n",
       "       [0., 0., 0., 0., 0., 0., 0., 0., 0., 0.],\n",
       "       [0., 0., 0., 0., 0., 0., 0., 0., 0., 0.],\n",
       "       [0., 0., 0., 0., 0., 0., 0., 0., 0., 0.],\n",
       "       [0., 0., 0., 0., 0., 0., 0., 0., 0., 0.],\n",
       "       [0., 0., 0., 0., 0., 0., 0., 0., 0., 0.],\n",
       "       [0., 0., 0., 0., 0., 0., 0., 0., 0., 0.],\n",
       "       [0., 0., 0., 0., 0., 0., 0., 0., 0., 0.]])"
      ]
     },
     "execution_count": 7,
     "metadata": {},
     "output_type": "execute_result"
    }
   ],
   "source": [
    "np.zeros((10,10))"
   ]
  },
  {
   "cell_type": "code",
   "execution_count": 10,
   "metadata": {},
   "outputs": [
    {
     "data": {
      "text/plain": [
       "array([[1., 1., 1., 1., 1., 1., 1., 1., 1., 1.],\n",
       "       [1., 1., 1., 1., 1., 1., 1., 1., 1., 1.],\n",
       "       [1., 1., 1., 1., 1., 1., 1., 1., 1., 1.],\n",
       "       [1., 1., 1., 1., 1., 1., 1., 1., 1., 1.],\n",
       "       [1., 1., 1., 1., 1., 1., 1., 1., 1., 1.],\n",
       "       [1., 1., 1., 1., 1., 1., 1., 1., 1., 1.],\n",
       "       [1., 1., 1., 1., 1., 1., 1., 1., 1., 1.],\n",
       "       [1., 1., 1., 1., 1., 1., 1., 1., 1., 1.],\n",
       "       [1., 1., 1., 1., 1., 1., 1., 1., 1., 1.],\n",
       "       [1., 1., 1., 1., 1., 1., 1., 1., 1., 1.]])"
      ]
     },
     "execution_count": 10,
     "metadata": {},
     "output_type": "execute_result"
    }
   ],
   "source": [
    "np.ones([10,10])"
   ]
  },
  {
   "cell_type": "code",
   "execution_count": 14,
   "metadata": {},
   "outputs": [
    {
     "data": {
      "text/plain": [
       "array([ 5.        ,  5.05050505,  5.1010101 ,  5.15151515,  5.2020202 ,\n",
       "        5.25252525,  5.3030303 ,  5.35353535,  5.4040404 ,  5.45454545,\n",
       "        5.50505051,  5.55555556,  5.60606061,  5.65656566,  5.70707071,\n",
       "        5.75757576,  5.80808081,  5.85858586,  5.90909091,  5.95959596,\n",
       "        6.01010101,  6.06060606,  6.11111111,  6.16161616,  6.21212121,\n",
       "        6.26262626,  6.31313131,  6.36363636,  6.41414141,  6.46464646,\n",
       "        6.51515152,  6.56565657,  6.61616162,  6.66666667,  6.71717172,\n",
       "        6.76767677,  6.81818182,  6.86868687,  6.91919192,  6.96969697,\n",
       "        7.02020202,  7.07070707,  7.12121212,  7.17171717,  7.22222222,\n",
       "        7.27272727,  7.32323232,  7.37373737,  7.42424242,  7.47474747,\n",
       "        7.52525253,  7.57575758,  7.62626263,  7.67676768,  7.72727273,\n",
       "        7.77777778,  7.82828283,  7.87878788,  7.92929293,  7.97979798,\n",
       "        8.03030303,  8.08080808,  8.13131313,  8.18181818,  8.23232323,\n",
       "        8.28282828,  8.33333333,  8.38383838,  8.43434343,  8.48484848,\n",
       "        8.53535354,  8.58585859,  8.63636364,  8.68686869,  8.73737374,\n",
       "        8.78787879,  8.83838384,  8.88888889,  8.93939394,  8.98989899,\n",
       "        9.04040404,  9.09090909,  9.14141414,  9.19191919,  9.24242424,\n",
       "        9.29292929,  9.34343434,  9.39393939,  9.44444444,  9.49494949,\n",
       "        9.54545455,  9.5959596 ,  9.64646465,  9.6969697 ,  9.74747475,\n",
       "        9.7979798 ,  9.84848485,  9.8989899 ,  9.94949495, 10.        ])"
      ]
     },
     "execution_count": 14,
     "metadata": {},
     "output_type": "execute_result"
    }
   ],
   "source": [
    "np.linspace(5,10,100)"
   ]
  },
  {
   "cell_type": "code",
   "execution_count": 18,
   "metadata": {},
   "outputs": [
    {
     "data": {
      "text/plain": [
       "array([[1., 0., 0., 0., 0., 0.],\n",
       "       [0., 1., 0., 0., 0., 0.],\n",
       "       [0., 0., 1., 0., 0., 0.],\n",
       "       [0., 0., 0., 1., 0., 0.],\n",
       "       [0., 0., 0., 0., 1., 0.],\n",
       "       [0., 0., 0., 0., 0., 1.]])"
      ]
     },
     "execution_count": 18,
     "metadata": {},
     "output_type": "execute_result"
    }
   ],
   "source": [
    "np.eye(6)"
   ]
  },
  {
   "cell_type": "code",
   "execution_count": 22,
   "metadata": {},
   "outputs": [
    {
     "data": {
      "text/plain": [
       "0.26764794182154916"
      ]
     },
     "execution_count": 22,
     "metadata": {},
     "output_type": "execute_result"
    }
   ],
   "source": [
    "np.random.rand()"
   ]
  },
  {
   "cell_type": "code",
   "execution_count": 23,
   "metadata": {},
   "outputs": [
    {
     "data": {
      "text/plain": [
       "array([0.26128562, 0.9770729 , 0.39450425, 0.726349  ])"
      ]
     },
     "execution_count": 23,
     "metadata": {},
     "output_type": "execute_result"
    }
   ],
   "source": [
    "np.random.rand(4)"
   ]
  },
  {
   "cell_type": "code",
   "execution_count": 24,
   "metadata": {},
   "outputs": [
    {
     "data": {
      "text/plain": [
       "array([[0.92945147, 0.38118477, 0.71681136, 0.47274119],\n",
       "       [0.58211257, 0.88241178, 0.7671473 , 0.0879229 ],\n",
       "       [0.66354447, 0.95811503, 0.45488083, 0.28110648],\n",
       "       [0.92561338, 0.12665467, 0.60540004, 0.68500553]])"
      ]
     },
     "execution_count": 24,
     "metadata": {},
     "output_type": "execute_result"
    }
   ],
   "source": [
    "np.random.rand(4,4)"
   ]
  },
  {
   "cell_type": "code",
   "execution_count": 26,
   "metadata": {},
   "outputs": [
    {
     "data": {
      "text/plain": [
       "7"
      ]
     },
     "execution_count": 26,
     "metadata": {},
     "output_type": "execute_result"
    }
   ],
   "source": [
    "np.random.randint(1,15)"
   ]
  },
  {
   "cell_type": "code",
   "execution_count": 27,
   "metadata": {},
   "outputs": [
    {
     "data": {
      "text/plain": [
       "array([[65, 27, 49, 23, 57, 93, 18, 34, 69, 25],\n",
       "       [22, 10, 29, 26, 64,  9, 90, 17, 86, 24],\n",
       "       [12, 15, 33, 99, 61, 48, 71, 77, 54, 79],\n",
       "       [69, 22,  4, 87, 76, 85, 32, 11, 42, 81],\n",
       "       [83, 61, 90, 20, 82, 33, 39, 66, 11, 64],\n",
       "       [86, 86, 49, 87, 66,  4, 17, 78, 14, 69],\n",
       "       [65, 70, 55, 64, 41, 69, 90, 43, 29, 69],\n",
       "       [78, 79, 70, 73, 64, 44, 11, 19,  4, 18],\n",
       "       [37, 48, 76, 16, 32,  5, 72, 67, 61, 71],\n",
       "       [ 8, 22,  5, 61, 28, 48, 12, 48, 16, 71]])"
      ]
     },
     "execution_count": 27,
     "metadata": {},
     "output_type": "execute_result"
    }
   ],
   "source": [
    "np.random.randint(1,100,(10,10))"
   ]
  }
 ],
 "metadata": {
  "kernelspec": {
   "display_name": "Python 3.10.5 64-bit",
   "language": "python",
   "name": "python3"
  },
  "language_info": {
   "codemirror_mode": {
    "name": "ipython",
    "version": 3
   },
   "file_extension": ".py",
   "mimetype": "text/x-python",
   "name": "python",
   "nbconvert_exporter": "python",
   "pygments_lexer": "ipython3",
   "version": "3.10.5"
  },
  "orig_nbformat": 4,
  "vscode": {
   "interpreter": {
    "hash": "6ff0b03a42956260793e956f25970e0ff1ec1f86f54fa5a01536209be86d7570"
   }
  }
 },
 "nbformat": 4,
 "nbformat_minor": 2
}
