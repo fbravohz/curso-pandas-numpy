{
 "cells": [
  {
   "cell_type": "code",
   "execution_count": 1,
   "metadata": {},
   "outputs": [],
   "source": [
    "import numpy as np"
   ]
  },
  {
   "cell_type": "code",
   "execution_count": 2,
   "metadata": {},
   "outputs": [
    {
     "data": {
      "text/plain": [
       "[0, 1, 2, 3, 4, 5, 6, 7, 8, 9]"
      ]
     },
     "execution_count": 2,
     "metadata": {},
     "output_type": "execute_result"
    }
   ],
   "source": [
    "list(range(0,10))"
   ]
  },
  {
   "cell_type": "code",
   "execution_count": 3,
   "metadata": {},
   "outputs": [
    {
     "data": {
      "text/plain": [
       "array([ 0,  2,  4,  6,  8, 10, 12, 14, 16, 18, 20])"
      ]
     },
     "execution_count": 3,
     "metadata": {},
     "output_type": "execute_result"
    }
   ],
   "source": [
    "np.arange(0,22,2)"
   ]
  },
  {
   "cell_type": "code",
   "execution_count": 4,
   "metadata": {},
   "outputs": [
    {
     "data": {
      "text/plain": [
       "array([0., 0., 0.])"
      ]
     },
     "execution_count": 4,
     "metadata": {},
     "output_type": "execute_result"
    }
   ],
   "source": [
    "np.zeros(3)"
   ]
  },
  {
   "cell_type": "code",
   "execution_count": 5,
   "metadata": {},
   "outputs": [
    {
     "data": {
      "text/plain": [
       "array([[0., 0., 0., 0., 0., 0., 0., 0., 0., 0.],\n",
       "       [0., 0., 0., 0., 0., 0., 0., 0., 0., 0.],\n",
       "       [0., 0., 0., 0., 0., 0., 0., 0., 0., 0.],\n",
       "       [0., 0., 0., 0., 0., 0., 0., 0., 0., 0.],\n",
       "       [0., 0., 0., 0., 0., 0., 0., 0., 0., 0.],\n",
       "       [0., 0., 0., 0., 0., 0., 0., 0., 0., 0.],\n",
       "       [0., 0., 0., 0., 0., 0., 0., 0., 0., 0.],\n",
       "       [0., 0., 0., 0., 0., 0., 0., 0., 0., 0.],\n",
       "       [0., 0., 0., 0., 0., 0., 0., 0., 0., 0.],\n",
       "       [0., 0., 0., 0., 0., 0., 0., 0., 0., 0.]])"
      ]
     },
     "execution_count": 5,
     "metadata": {},
     "output_type": "execute_result"
    }
   ],
   "source": [
    "np.zeros((10,10))"
   ]
  },
  {
   "cell_type": "code",
   "execution_count": 6,
   "metadata": {},
   "outputs": [
    {
     "data": {
      "text/plain": [
       "array([[1., 1., 1., 1., 1., 1., 1., 1., 1., 1.],\n",
       "       [1., 1., 1., 1., 1., 1., 1., 1., 1., 1.],\n",
       "       [1., 1., 1., 1., 1., 1., 1., 1., 1., 1.],\n",
       "       [1., 1., 1., 1., 1., 1., 1., 1., 1., 1.],\n",
       "       [1., 1., 1., 1., 1., 1., 1., 1., 1., 1.],\n",
       "       [1., 1., 1., 1., 1., 1., 1., 1., 1., 1.],\n",
       "       [1., 1., 1., 1., 1., 1., 1., 1., 1., 1.],\n",
       "       [1., 1., 1., 1., 1., 1., 1., 1., 1., 1.],\n",
       "       [1., 1., 1., 1., 1., 1., 1., 1., 1., 1.],\n",
       "       [1., 1., 1., 1., 1., 1., 1., 1., 1., 1.]])"
      ]
     },
     "execution_count": 6,
     "metadata": {},
     "output_type": "execute_result"
    }
   ],
   "source": [
    "np.ones([10,10])"
   ]
  },
  {
   "cell_type": "code",
   "execution_count": 7,
   "metadata": {},
   "outputs": [
    {
     "data": {
      "text/plain": [
       "array([ 5.        ,  5.05050505,  5.1010101 ,  5.15151515,  5.2020202 ,\n",
       "        5.25252525,  5.3030303 ,  5.35353535,  5.4040404 ,  5.45454545,\n",
       "        5.50505051,  5.55555556,  5.60606061,  5.65656566,  5.70707071,\n",
       "        5.75757576,  5.80808081,  5.85858586,  5.90909091,  5.95959596,\n",
       "        6.01010101,  6.06060606,  6.11111111,  6.16161616,  6.21212121,\n",
       "        6.26262626,  6.31313131,  6.36363636,  6.41414141,  6.46464646,\n",
       "        6.51515152,  6.56565657,  6.61616162,  6.66666667,  6.71717172,\n",
       "        6.76767677,  6.81818182,  6.86868687,  6.91919192,  6.96969697,\n",
       "        7.02020202,  7.07070707,  7.12121212,  7.17171717,  7.22222222,\n",
       "        7.27272727,  7.32323232,  7.37373737,  7.42424242,  7.47474747,\n",
       "        7.52525253,  7.57575758,  7.62626263,  7.67676768,  7.72727273,\n",
       "        7.77777778,  7.82828283,  7.87878788,  7.92929293,  7.97979798,\n",
       "        8.03030303,  8.08080808,  8.13131313,  8.18181818,  8.23232323,\n",
       "        8.28282828,  8.33333333,  8.38383838,  8.43434343,  8.48484848,\n",
       "        8.53535354,  8.58585859,  8.63636364,  8.68686869,  8.73737374,\n",
       "        8.78787879,  8.83838384,  8.88888889,  8.93939394,  8.98989899,\n",
       "        9.04040404,  9.09090909,  9.14141414,  9.19191919,  9.24242424,\n",
       "        9.29292929,  9.34343434,  9.39393939,  9.44444444,  9.49494949,\n",
       "        9.54545455,  9.5959596 ,  9.64646465,  9.6969697 ,  9.74747475,\n",
       "        9.7979798 ,  9.84848485,  9.8989899 ,  9.94949495, 10.        ])"
      ]
     },
     "execution_count": 7,
     "metadata": {},
     "output_type": "execute_result"
    }
   ],
   "source": [
    "np.linspace(5,10,100)"
   ]
  },
  {
   "cell_type": "code",
   "execution_count": 8,
   "metadata": {},
   "outputs": [
    {
     "data": {
      "text/plain": [
       "array([[1., 0., 0., 0., 0., 0.],\n",
       "       [0., 1., 0., 0., 0., 0.],\n",
       "       [0., 0., 1., 0., 0., 0.],\n",
       "       [0., 0., 0., 1., 0., 0.],\n",
       "       [0., 0., 0., 0., 1., 0.],\n",
       "       [0., 0., 0., 0., 0., 1.]])"
      ]
     },
     "execution_count": 8,
     "metadata": {},
     "output_type": "execute_result"
    }
   ],
   "source": [
    "np.eye(6)"
   ]
  },
  {
   "cell_type": "code",
   "execution_count": 9,
   "metadata": {},
   "outputs": [
    {
     "data": {
      "text/plain": [
       "0.9146039740349167"
      ]
     },
     "execution_count": 9,
     "metadata": {},
     "output_type": "execute_result"
    }
   ],
   "source": [
    "np.random.rand()"
   ]
  },
  {
   "cell_type": "code",
   "execution_count": 10,
   "metadata": {},
   "outputs": [
    {
     "data": {
      "text/plain": [
       "array([0.74733342, 0.0150685 , 0.182024  , 0.5769079 ])"
      ]
     },
     "execution_count": 10,
     "metadata": {},
     "output_type": "execute_result"
    }
   ],
   "source": [
    "np.random.rand(4)"
   ]
  },
  {
   "cell_type": "code",
   "execution_count": 11,
   "metadata": {},
   "outputs": [
    {
     "data": {
      "text/plain": [
       "array([[0.46281753, 0.97695054, 0.55645653, 0.19156545],\n",
       "       [0.68890518, 0.48430549, 0.90449379, 0.20866517],\n",
       "       [0.862222  , 0.91297656, 0.53101522, 0.50106188],\n",
       "       [0.71982739, 0.42355272, 0.27944208, 0.56071671]])"
      ]
     },
     "execution_count": 11,
     "metadata": {},
     "output_type": "execute_result"
    }
   ],
   "source": [
    "np.random.rand(4,4)"
   ]
  },
  {
   "cell_type": "code",
   "execution_count": 12,
   "metadata": {},
   "outputs": [
    {
     "data": {
      "text/plain": [
       "5"
      ]
     },
     "execution_count": 12,
     "metadata": {},
     "output_type": "execute_result"
    }
   ],
   "source": [
    "np.random.randint(1,15)"
   ]
  },
  {
   "cell_type": "code",
   "execution_count": 13,
   "metadata": {},
   "outputs": [
    {
     "data": {
      "text/plain": [
       "array([[35, 87, 96, 45,  8, 73, 34, 49, 20, 21],\n",
       "       [15, 43, 44, 59, 24, 80,  2, 94, 24, 42],\n",
       "       [84, 28, 69,  6, 38, 18, 70, 47, 49, 17],\n",
       "       [37, 51, 40, 59, 29, 83, 57,  2, 91, 59],\n",
       "       [72, 34, 83, 60,  9, 82, 95, 55, 71, 51],\n",
       "       [68, 45, 42, 84, 84, 78, 66, 67, 37, 33],\n",
       "       [93, 32, 30, 84, 41, 82, 29, 51, 51, 82],\n",
       "       [42, 60, 58, 75, 11, 74, 58, 93, 73, 81],\n",
       "       [49, 78, 66, 79, 57, 39, 47, 68, 76, 53],\n",
       "       [43,  7, 62, 67, 12, 41, 28,  1, 60, 23]])"
      ]
     },
     "execution_count": 13,
     "metadata": {},
     "output_type": "execute_result"
    }
   ],
   "source": [
    "np.random.randint(1,100,(10,10))"
   ]
  }
 ],
 "metadata": {
  "kernelspec": {
   "display_name": "Python 3.10.7 ('pandas-numpy-env': venv)",
   "language": "python",
   "name": "python3"
  },
  "language_info": {
   "codemirror_mode": {
    "name": "ipython",
    "version": 3
   },
   "file_extension": ".py",
   "mimetype": "text/x-python",
   "name": "python",
   "nbconvert_exporter": "python",
   "pygments_lexer": "ipython3",
   "version": "3.10.7"
  },
  "orig_nbformat": 4,
  "vscode": {
   "interpreter": {
    "hash": "f1bdac89d6d68152ab2c9546a179139349d616629eced520a2bdd478f6422d44"
   }
  }
 },
 "nbformat": 4,
 "nbformat_minor": 2
}
