{
 "cells": [
  {
   "cell_type": "code",
   "execution_count": 1,
   "metadata": {},
   "outputs": [],
   "source": [
    "import numpy as np"
   ]
  },
  {
   "cell_type": "code",
   "execution_count": 2,
   "metadata": {},
   "outputs": [],
   "source": [
    "arr = np.random.randint(1,10,(3,3,3))"
   ]
  },
  {
   "cell_type": "code",
   "execution_count": 3,
   "metadata": {},
   "outputs": [
    {
     "data": {
      "text/plain": [
       "(3, 3, 3)"
      ]
     },
     "execution_count": 3,
     "metadata": {},
     "output_type": "execute_result"
    }
   ],
   "source": [
    "arr.shape"
   ]
  },
  {
   "cell_type": "code",
   "execution_count": 4,
   "metadata": {},
   "outputs": [
    {
     "data": {
      "text/plain": [
       "array([[[7, 4, 6],\n",
       "        [3, 9, 5],\n",
       "        [7, 1, 8]],\n",
       "\n",
       "       [[8, 3, 1],\n",
       "        [1, 7, 1],\n",
       "        [1, 9, 8]],\n",
       "\n",
       "       [[4, 6, 4],\n",
       "        [5, 8, 8],\n",
       "        [6, 6, 2]]])"
      ]
     },
     "execution_count": 4,
     "metadata": {},
     "output_type": "execute_result"
    }
   ],
   "source": [
    "arr"
   ]
  },
  {
   "cell_type": "code",
   "execution_count": 5,
   "metadata": {},
   "outputs": [
    {
     "data": {
      "text/plain": [
       "array([[7, 4, 6, 3, 9, 5, 7, 1, 8, 8, 3, 1, 1, 7, 1, 1, 9, 8, 4, 6, 4, 5,\n",
       "        8, 8, 6, 6, 2]])"
      ]
     },
     "execution_count": 5,
     "metadata": {},
     "output_type": "execute_result"
    }
   ],
   "source": [
    "#Para que reshape funcione requiere que su nueva forma sea multiplo del\n",
    "#Array original pj = (3,3,3) y (1,27) es lo mismo que 3x3x3 = 27 ; 1x27 = 27\n",
    "arr.reshape(1,27)"
   ]
  },
  {
   "cell_type": "code",
   "execution_count": 6,
   "metadata": {},
   "outputs": [
    {
     "data": {
      "text/plain": [
       "array([[[7, 4, 6, 3, 9, 5, 7, 1, 8]],\n",
       "\n",
       "       [[8, 3, 1, 1, 7, 1, 1, 9, 8]],\n",
       "\n",
       "       [[4, 6, 4, 5, 8, 8, 6, 6, 2]]])"
      ]
     },
     "execution_count": 6,
     "metadata": {},
     "output_type": "execute_result"
    }
   ],
   "source": [
    "arr.reshape(3,1,9)"
   ]
  },
  {
   "cell_type": "markdown",
   "metadata": {},
   "source": [
    "Ordenar como lenguaje C (prioriza por filas)"
   ]
  },
  {
   "cell_type": "code",
   "execution_count": 7,
   "metadata": {},
   "outputs": [
    {
     "data": {
      "text/plain": [
       "array([[[7, 4, 6, 3, 9, 5, 7, 1, 8],\n",
       "        [8, 3, 1, 1, 7, 1, 1, 9, 8],\n",
       "        [4, 6, 4, 5, 8, 8, 6, 6, 2]]])"
      ]
     },
     "execution_count": 7,
     "metadata": {},
     "output_type": "execute_result"
    }
   ],
   "source": [
    "np.reshape(arr,(1,3,9),'C')"
   ]
  },
  {
   "cell_type": "markdown",
   "metadata": {},
   "source": [
    "Ordenar como lenguaje Fortran (prioriza por columnas)"
   ]
  },
  {
   "cell_type": "code",
   "execution_count": 8,
   "metadata": {},
   "outputs": [
    {
     "data": {
      "text/plain": [
       "array([[[7, 3, 7, 4, 9, 1, 6, 5, 8],\n",
       "        [8, 1, 1, 3, 7, 9, 1, 1, 8],\n",
       "        [4, 5, 6, 6, 8, 6, 4, 8, 2]]])"
      ]
     },
     "execution_count": 8,
     "metadata": {},
     "output_type": "execute_result"
    }
   ],
   "source": [
    "np.reshape(arr,(1,3,9),'F')"
   ]
  },
  {
   "cell_type": "markdown",
   "metadata": {},
   "source": [
    "Ordena de acuerdo a la optimizacion del guardado de datos en mi sistema (aleatoriamente entre C o F)"
   ]
  },
  {
   "cell_type": "code",
   "execution_count": 9,
   "metadata": {},
   "outputs": [
    {
     "data": {
      "text/plain": [
       "array([[[7, 4, 6, 3, 9, 5, 7, 1, 8],\n",
       "        [8, 3, 1, 1, 7, 1, 1, 9, 8],\n",
       "        [4, 6, 4, 5, 8, 8, 6, 6, 2]]])"
      ]
     },
     "execution_count": 9,
     "metadata": {},
     "output_type": "execute_result"
    }
   ],
   "source": [
    "np.reshape(arr,(1,3,9),'A')"
   ]
  }
 ],
 "metadata": {
  "kernelspec": {
   "display_name": "Python 3.10.7 ('pandas-numpy-env': venv)",
   "language": "python",
   "name": "python3"
  },
  "language_info": {
   "codemirror_mode": {
    "name": "ipython",
    "version": 3
   },
   "file_extension": ".py",
   "mimetype": "text/x-python",
   "name": "python",
   "nbconvert_exporter": "python",
   "pygments_lexer": "ipython3",
   "version": "3.10.7"
  },
  "orig_nbformat": 4,
  "vscode": {
   "interpreter": {
    "hash": "f1bdac89d6d68152ab2c9546a179139349d616629eced520a2bdd478f6422d44"
   }
  }
 },
 "nbformat": 4,
 "nbformat_minor": 2
}
