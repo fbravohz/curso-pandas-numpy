{
 "cells": [
  {
   "cell_type": "code",
   "execution_count": 1,
   "metadata": {},
   "outputs": [],
   "source": [
    "import numpy as np"
   ]
  },
  {
   "cell_type": "code",
   "execution_count": 5,
   "metadata": {},
   "outputs": [],
   "source": [
    "arr = np.random.randint(1,10,(3,3,3))"
   ]
  },
  {
   "cell_type": "code",
   "execution_count": 6,
   "metadata": {},
   "outputs": [
    {
     "data": {
      "text/plain": [
       "(3, 3, 3)"
      ]
     },
     "execution_count": 6,
     "metadata": {},
     "output_type": "execute_result"
    }
   ],
   "source": [
    "arr.shape"
   ]
  },
  {
   "cell_type": "code",
   "execution_count": 7,
   "metadata": {},
   "outputs": [
    {
     "data": {
      "text/plain": [
       "array([[[7, 4, 6],\n",
       "        [7, 7, 2],\n",
       "        [9, 1, 1]],\n",
       "\n",
       "       [[6, 3, 6],\n",
       "        [2, 9, 3],\n",
       "        [7, 4, 1]],\n",
       "\n",
       "       [[2, 1, 5],\n",
       "        [7, 5, 1],\n",
       "        [8, 9, 1]]])"
      ]
     },
     "execution_count": 7,
     "metadata": {},
     "output_type": "execute_result"
    }
   ],
   "source": [
    "arr"
   ]
  },
  {
   "cell_type": "code",
   "execution_count": 10,
   "metadata": {},
   "outputs": [
    {
     "data": {
      "text/plain": [
       "array([[7, 4, 6, 7, 7, 2, 9, 1, 1, 6, 3, 6, 2, 9, 3, 7, 4, 1, 2, 1, 5, 7,\n",
       "        5, 1, 8, 9, 1]])"
      ]
     },
     "execution_count": 10,
     "metadata": {},
     "output_type": "execute_result"
    }
   ],
   "source": [
    "#Para que reshape funcione requiere que su nueva forma sea multiplo del\n",
    "#Array original pj = (3,3,3) y (1,27) es lo mismo que 3x3x3 = 27 ; 1x27 = 27\n",
    "arr.reshape(1,27)"
   ]
  },
  {
   "cell_type": "code",
   "execution_count": 11,
   "metadata": {},
   "outputs": [
    {
     "data": {
      "text/plain": [
       "array([[[7, 4, 6, 7, 7, 2, 9, 1, 1]],\n",
       "\n",
       "       [[6, 3, 6, 2, 9, 3, 7, 4, 1]],\n",
       "\n",
       "       [[2, 1, 5, 7, 5, 1, 8, 9, 1]]])"
      ]
     },
     "execution_count": 11,
     "metadata": {},
     "output_type": "execute_result"
    }
   ],
   "source": [
    "arr.reshape(3,1,9)"
   ]
  },
  {
   "cell_type": "markdown",
   "metadata": {},
   "source": [
    "Ordenar como lenguaje C (prioriza por filas)"
   ]
  },
  {
   "cell_type": "code",
   "execution_count": 12,
   "metadata": {},
   "outputs": [
    {
     "data": {
      "text/plain": [
       "array([[[7, 4, 6, 7, 7, 2, 9, 1, 1],\n",
       "        [6, 3, 6, 2, 9, 3, 7, 4, 1],\n",
       "        [2, 1, 5, 7, 5, 1, 8, 9, 1]]])"
      ]
     },
     "execution_count": 12,
     "metadata": {},
     "output_type": "execute_result"
    }
   ],
   "source": [
    "np.reshape(arr,(1,3,9),'C')"
   ]
  },
  {
   "cell_type": "markdown",
   "metadata": {},
   "source": [
    "Ordenar como lenguaje Fortran (prioriza por columnas)"
   ]
  },
  {
   "cell_type": "code",
   "execution_count": 13,
   "metadata": {},
   "outputs": [
    {
     "data": {
      "text/plain": [
       "array([[[7, 7, 9, 4, 7, 1, 6, 2, 1],\n",
       "        [6, 2, 7, 3, 9, 4, 6, 3, 1],\n",
       "        [2, 7, 8, 1, 5, 9, 5, 1, 1]]])"
      ]
     },
     "execution_count": 13,
     "metadata": {},
     "output_type": "execute_result"
    }
   ],
   "source": [
    "np.reshape(arr,(1,3,9),'F')"
   ]
  },
  {
   "cell_type": "markdown",
   "metadata": {},
   "source": [
    "Ordena de acuerdo a la optimizacion del guardado de datos en mi sistema (aleatoriamente entre C o F)"
   ]
  },
  {
   "cell_type": "code",
   "execution_count": 14,
   "metadata": {},
   "outputs": [
    {
     "data": {
      "text/plain": [
       "array([[[7, 4, 6, 7, 7, 2, 9, 1, 1],\n",
       "        [6, 3, 6, 2, 9, 3, 7, 4, 1],\n",
       "        [2, 1, 5, 7, 5, 1, 8, 9, 1]]])"
      ]
     },
     "execution_count": 14,
     "metadata": {},
     "output_type": "execute_result"
    }
   ],
   "source": [
    "np.reshape(arr,(1,3,9),'A')"
   ]
  }
 ],
 "metadata": {
  "kernelspec": {
   "display_name": "Python 3.10.5 64-bit",
   "language": "python",
   "name": "python3"
  },
  "language_info": {
   "codemirror_mode": {
    "name": "ipython",
    "version": 3
   },
   "file_extension": ".py",
   "mimetype": "text/x-python",
   "name": "python",
   "nbconvert_exporter": "python",
   "pygments_lexer": "ipython3",
   "version": "3.10.5"
  },
  "orig_nbformat": 4,
  "vscode": {
   "interpreter": {
    "hash": "6ff0b03a42956260793e956f25970e0ff1ec1f86f54fa5a01536209be86d7570"
   }
  }
 },
 "nbformat": 4,
 "nbformat_minor": 2
}
